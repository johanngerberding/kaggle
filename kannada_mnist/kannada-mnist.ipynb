{
 "cells": [
  {
   "cell_type": "code",
   "execution_count": 1,
   "metadata": {
    "_cell_guid": "16b77dad-da4e-4094-ba47-509f06b6fee9",
    "_uuid": "2c583c4b-e20a-4673-b0bc-cebe0b6dfda2"
   },
   "outputs": [
    {
     "name": "stderr",
     "output_type": "stream",
     "text": [
      "Using TensorFlow backend.\n"
     ]
    }
   ],
   "source": [
    "import os\n",
    "import keras\n",
    "import numpy as np # linear algebra\n",
    "import pandas as pd # data processing, CSV file I/O (e.g. pd.read_csv)\n",
    "import matplotlib.pyplot as plt\n",
    "\n",
    "from keras.models import Sequential\n",
    "from keras.preprocessing.image import ImageDataGenerator\n",
    "from keras.layers import Dense, Activation, Dropout, Conv2D, MaxPooling2D, Flatten, BatchNormalization\n",
    "from keras.optimizers import SGD, RMSprop\n",
    "from tensorflow.keras.callbacks import ReduceLROnPlateau, EarlyStopping\n",
    "\n",
    "from sklearn.model_selection import train_test_split"
   ]
  },
  {
   "cell_type": "code",
   "execution_count": 2,
   "metadata": {},
   "outputs": [],
   "source": [
    "# Put training data into a DataFrame        \n",
    "X = pd.read_csv('/kaggle/input/Kannada-MNIST/train.csv')\n",
    "# X_test = pd.read_csv('/kaggle/input/Kannada-MNIST/test.csv')\n",
    "# Separate the label column\n",
    "y = X.loc[:]['label']\n",
    "# Drop label column\n",
    "X.drop('label', axis=1, inplace=True)"
   ]
  },
  {
   "cell_type": "code",
   "execution_count": 3,
   "metadata": {},
   "outputs": [
    {
     "name": "stdout",
     "output_type": "stream",
     "text": [
      "X_train shape: (51000, 784)\n",
      "X_val shape: (9000, 784)\n",
      "y_train shape: (51000,)\n",
      "y_val shape: (9000,)\n"
     ]
    }
   ],
   "source": [
    "# Create train and test data\n",
    "X_train, X_val, y_train, y_val = train_test_split(X, y, test_size=0.15, random_state=42)\n",
    "print('X_train shape: {0}'.format(X_train.shape))\n",
    "print('X_val shape: {0}'.format(X_val.shape))\n",
    "print('y_train shape: {0}'.format(y_train.shape))\n",
    "print('y_val shape: {0}'.format(y_val.shape))"
   ]
  },
  {
   "cell_type": "code",
   "execution_count": 4,
   "metadata": {},
   "outputs": [
    {
     "name": "stdout",
     "output_type": "stream",
     "text": [
      "9    0.1\n",
      "8    0.1\n",
      "7    0.1\n",
      "6    0.1\n",
      "5    0.1\n",
      "4    0.1\n",
      "3    0.1\n",
      "2    0.1\n",
      "1    0.1\n",
      "0    0.1\n",
      "Name: label, dtype: float64\n"
     ]
    }
   ],
   "source": [
    "# Labels are equally distributed (10% each)\n",
    "print(y.value_counts(normalize=True))"
   ]
  },
  {
   "cell_type": "code",
   "execution_count": 5,
   "metadata": {},
   "outputs": [],
   "source": [
    "num_classes = 10\n",
    "# Reshape training data\n",
    "num_samples_train = X_train.shape[0]\n",
    "num_samples_val = X_val.shape[0]\n",
    "X_train = X_train.to_numpy().reshape(num_samples_train, 28, 28, 1)\n",
    "X_val = X_val.to_numpy().reshape(num_samples_val, 28, 28, 1)\n",
    "\n",
    "# Data Augmentation\n",
    "train_datagen = ImageDataGenerator(rescale=1./255.,\n",
    "                                   rotation_range=20,\n",
    "                                   width_shift_range=0.25,\n",
    "                                   height_shift_range=0.25,\n",
    "                                   shear_range=0.2,\n",
    "                                   zoom_range=0.25,\n",
    "                                   horizontal_flip=False)\n",
    "\n",
    "val_datagen = ImageDataGenerator(rescale=1./255.)\n",
    "\n",
    "y_train = y_train.to_numpy()\n",
    "y_val = y_val.to_numpy()\n",
    "\n",
    "# Convert class vector to binary class matrix\n",
    "y_train = keras.utils.to_categorical(y_train, num_classes=num_classes, dtype='float32')\n",
    "y_val = keras.utils.to_categorical(y_val, num_classes=num_classes, dtype='float32')"
   ]
  },
  {
   "cell_type": "code",
   "execution_count": 6,
   "metadata": {},
   "outputs": [
    {
     "name": "stdout",
     "output_type": "stream",
     "text": [
      "[0. 0. 0. 0. 0. 0. 0. 0. 0. 1.]\n"
     ]
    },
    {
     "data": {
      "image/png": "[encoded data removed]",
      "text/plain": [
       "<Figure size 576x576 with 1 Axes>"
      ]
     },
     "metadata": {
      "needs_background": "light"
     },
     "output_type": "display_data"
    }
   ],
   "source": [
    "%matplotlib inline\n",
    "img = X_train[4].reshape(28,28)\n",
    "plt.figure(figsize=(8,8))\n",
    "plt.imshow(img)\n",
    "print(y_val[4])"
   ]
  },
  {
   "cell_type": "code",
   "execution_count": 7,
   "metadata": {},
   "outputs": [],
   "source": [
    "# Build up our model\n",
    "def create_model(lr, show_summary=False):\n",
    "    \n",
    "    model = Sequential()\n",
    "    model.add(Conv2D(64, (3,3), activation='relu', input_shape=(28, 28, 1)))\n",
    "    model.add(BatchNormalization())\n",
    "    model.add(Conv2D(64, (3,3), activation='relu'))\n",
    "    model.add(BatchNormalization())\n",
    "    model.add(Conv2D(64, (5,5), padding='same', activation='relu'))\n",
    "    model.add(BatchNormalization())\n",
    "    model.add(Dropout(0.15))\n",
    "    \n",
    "    model.add(Conv2D(128, (3,3), activation='relu'))\n",
    "    model.add(BatchNormalization())\n",
    "    model.add(Conv2D(128, (3,3), activation='relu'))\n",
    "    model.add(BatchNormalization())\n",
    "    model.add(Conv2D(128, (5,5), padding='same', activation='relu'))\n",
    "    model.add(BatchNormalization())\n",
    "    model.add(MaxPooling2D((2,2)))\n",
    "    model.add(Dropout(0.15))\n",
    "    \n",
    "    model.add(Conv2D(256, (3,3), activation='relu'))\n",
    "    model.add(BatchNormalization())\n",
    "    model.add(Conv2D(256, (5,5), padding='same', activation='relu'))\n",
    "    model.add(BatchNormalization())\n",
    "    model.add(MaxPooling2D((2,2)))\n",
    "    model.add(Dropout(0.15))\n",
    "    \n",
    "    model.add(Flatten())\n",
    "    model.add(Dense(256, activation='relu'))\n",
    "    model.add(BatchNormalization())\n",
    "    model.add(Dense(128, activation='relu'))\n",
    "    model.add(BatchNormalization())\n",
    "    model.add(Dense(10, activation='softmax'))\n",
    "    \n",
    "    if show_summary:\n",
    "        model.summary()\n",
    "        \n",
    "    optimizer = RMSprop(lr=learning_rate)\n",
    "    model.compile(optimizer=optimizer, loss='categorical_crossentropy', metrics=['acc'])\n",
    "    \n",
    "    return model"
   ]
  },
  {
   "cell_type": "code",
   "execution_count": 8,
   "metadata": {},
   "outputs": [],
   "source": [
    "def train_model(model, X_train, y_train, X_val, y_val, epochs, batch_size, verbose):\n",
    "    \n",
    "    learning_rate_reduction = ReduceLROnPlateau(monitor='val_loss', \n",
    "                                            patience=200,\n",
    "                                            verbose=verbose,\n",
    "                                            factor=0.2)\n",
    "    \n",
    "    # Early Stopping\n",
    "    es = EarlyStopping(monitor='val_loss', mode='min', verbose=verbose, patience=200)\n",
    "\n",
    "    history = model.fit_generator(train_datagen.flow(X_train, y_train, batch_size=batch_size),\n",
    "                                  steps_per_epoch=200, \n",
    "                                  epochs=epochs, \n",
    "                                  validation_data=val_datagen.flow(X_val, y_val), \n",
    "                                  validation_steps=50, \n",
    "                                  callbacks=[learning_rate_reduction, es])\n",
    "    \n",
    "\n",
    "    # val_loss, val_acc = model.evaluate(X_val, y_val)\n",
    "    # print(\"Test accuracy: {0}\".format(val_acc))\n",
    "    return history"
   ]
  },
  {
   "cell_type": "code",
   "execution_count": 9,
   "metadata": {},
   "outputs": [
    {
     "name": "stdout",
     "output_type": "stream",
     "text": [
      "Model: \"sequential_1\"\n",
      "_________________________________________________________________\n",
      "Layer (type)                 Output Shape              Param #   \n",
      "=================================================================\n",
      "conv2d_1 (Conv2D)            (None, 26, 26, 64)        640       \n",
      "_________________________________________________________________\n",
      "batch_normalization_1 (Batch (None, 26, 26, 64)        256       \n",
      "_________________________________________________________________\n",
      "conv2d_2 (Conv2D)            (None, 24, 24, 64)        36928     \n",
      "_________________________________________________________________\n",
      "batch_normalization_2 (Batch (None, 24, 24, 64)        256       \n",
      "_________________________________________________________________\n",
      "conv2d_3 (Conv2D)            (None, 24, 24, 64)        102464    \n",
      "_________________________________________________________________\n",
      "batch_normalization_3 (Batch (None, 24, 24, 64)        256       \n",
      "_________________________________________________________________\n",
      "dropout_1 (Dropout)          (None, 24, 24, 64)        0         \n",
      "_________________________________________________________________\n",
      "conv2d_4 (Conv2D)            (None, 22, 22, 128)       73856     \n",
      "_________________________________________________________________\n",
      "batch_normalization_4 (Batch (None, 22, 22, 128)       512       \n",
      "_________________________________________________________________\n",
      "conv2d_5 (Conv2D)            (None, 20, 20, 128)       147584    \n",
      "_________________________________________________________________\n",
      "batch_normalization_5 (Batch (None, 20, 20, 128)       512       \n",
      "_________________________________________________________________\n",
      "conv2d_6 (Conv2D)            (None, 20, 20, 128)       409728    \n",
      "_________________________________________________________________\n",
      "batch_normalization_6 (Batch (None, 20, 20, 128)       512       \n",
      "_________________________________________________________________\n",
      "max_pooling2d_1 (MaxPooling2 (None, 10, 10, 128)       0         \n",
      "_________________________________________________________________\n",
      "dropout_2 (Dropout)          (None, 10, 10, 128)       0         \n",
      "_________________________________________________________________\n",
      "conv2d_7 (Conv2D)            (None, 8, 8, 256)         295168    \n",
      "_________________________________________________________________\n",
      "batch_normalization_7 (Batch (None, 8, 8, 256)         1024      \n",
      "_________________________________________________________________\n",
      "conv2d_8 (Conv2D)            (None, 8, 8, 256)         1638656   \n",
      "_________________________________________________________________\n",
      "batch_normalization_8 (Batch (None, 8, 8, 256)         1024      \n",
      "_________________________________________________________________\n",
      "max_pooling2d_2 (MaxPooling2 (None, 4, 4, 256)         0         \n",
      "_________________________________________________________________\n",
      "dropout_3 (Dropout)          (None, 4, 4, 256)         0         \n",
      "_________________________________________________________________\n",
      "flatten_1 (Flatten)          (None, 4096)              0         \n",
      "_________________________________________________________________\n",
      "dense_1 (Dense)              (None, 256)               1048832   \n",
      "_________________________________________________________________\n",
      "batch_normalization_9 (Batch (None, 256)               1024      \n",
      "_________________________________________________________________\n",
      "dense_2 (Dense)              (None, 128)               32896     \n",
      "_________________________________________________________________\n",
      "batch_normalization_10 (Batc (None, 128)               512       \n",
      "_________________________________________________________________\n",
      "dense_3 (Dense)              (None, 10)                1290      \n",
      "=================================================================\n",
      "Total params: 3,793,930\n",
      "Trainable params: 3,790,986\n",
      "Non-trainable params: 2,944\n",
      "_________________________________________________________________\n"
     ]
    }
   ],
   "source": [
    "# Test our model\n",
    "batch_size = 512\n",
    "epochs = 65\n",
    "learning_rate = 0.001\n",
    "\n",
    "model = create_model(learning_rate, show_summary=True)"
   ]
  },
  {
   "cell_type": "code",
   "execution_count": 10,
   "metadata": {},
   "outputs": [
    {
     "name": "stdout",
     "output_type": "stream",
     "text": [
      "Epoch 1/65\n",
      "200/200 [==============================] - 52s 260ms/step - loss: 0.4544 - acc: 0.8509 - val_loss: 45.7768 - val_acc: 0.0950\n",
      "Epoch 2/65\n",
      "200/200 [==============================] - 42s 208ms/step - loss: 0.1026 - acc: 0.9667 - val_loss: 57.6798 - val_acc: 0.0962\n",
      "Epoch 3/65\n",
      "200/200 [==============================] - 42s 209ms/step - loss: 0.0734 - acc: 0.9767 - val_loss: 11.2861 - val_acc: 0.2631\n",
      "Epoch 4/65\n",
      "200/200 [==============================] - 42s 208ms/step - loss: 0.0597 - acc: 0.9810 - val_loss: 0.0072 - val_acc: 0.9912\n",
      "Epoch 5/65\n",
      "200/200 [==============================] - 42s 208ms/step - loss: 0.0517 - acc: 0.9834 - val_loss: 0.0130 - val_acc: 0.9925\n",
      "Epoch 6/65\n",
      "200/200 [==============================] - 42s 211ms/step - loss: 0.0448 - acc: 0.9858 - val_loss: 0.0084 - val_acc: 0.9956\n",
      "Epoch 7/65\n",
      "200/200 [==============================] - 42s 211ms/step - loss: 0.0414 - acc: 0.9868 - val_loss: 0.0419 - val_acc: 0.9969\n",
      "Epoch 8/65\n",
      "200/200 [==============================] - 42s 209ms/step - loss: 0.0394 - acc: 0.9870 - val_loss: 0.0038 - val_acc: 0.9944\n",
      "Epoch 9/65\n",
      "200/200 [==============================] - 42s 211ms/step - loss: 0.0362 - acc: 0.9881 - val_loss: 2.8467e-04 - val_acc: 0.9906\n",
      "Epoch 10/65\n",
      "200/200 [==============================] - 42s 208ms/step - loss: 0.0341 - acc: 0.9890 - val_loss: 0.0121 - val_acc: 0.9894\n",
      "Epoch 11/65\n",
      "200/200 [==============================] - 42s 208ms/step - loss: 0.0341 - acc: 0.9891 - val_loss: 0.0018 - val_acc: 0.9937\n",
      "Epoch 12/65\n",
      "200/200 [==============================] - 42s 208ms/step - loss: 0.0322 - acc: 0.9893 - val_loss: 0.0042 - val_acc: 0.9968\n",
      "Epoch 13/65\n",
      "200/200 [==============================] - 41s 207ms/step - loss: 0.0311 - acc: 0.9904 - val_loss: 4.8065e-04 - val_acc: 0.9956\n",
      "Epoch 14/65\n",
      "200/200 [==============================] - 42s 212ms/step - loss: 0.0293 - acc: 0.9904 - val_loss: 0.0234 - val_acc: 0.9962\n",
      "Epoch 15/65\n",
      "200/200 [==============================] - 42s 209ms/step - loss: 0.0298 - acc: 0.9905 - val_loss: 0.0030 - val_acc: 0.9956\n",
      "Epoch 16/65\n",
      "200/200 [==============================] - 42s 210ms/step - loss: 0.0277 - acc: 0.9910 - val_loss: 0.6302 - val_acc: 0.8112\n",
      "Epoch 17/65\n",
      "200/200 [==============================] - 42s 209ms/step - loss: 0.0288 - acc: 0.9909 - val_loss: 2.2347e-04 - val_acc: 0.9968\n",
      "Epoch 18/65\n",
      "200/200 [==============================] - 46s 228ms/step - loss: 0.0272 - acc: 0.9915 - val_loss: 0.0594 - val_acc: 0.9956\n",
      "Epoch 19/65\n",
      "200/200 [==============================] - 42s 209ms/step - loss: 0.0258 - acc: 0.9914 - val_loss: 9.3804e-04 - val_acc: 0.9925\n",
      "Epoch 20/65\n",
      "200/200 [==============================] - 42s 209ms/step - loss: 0.0261 - acc: 0.9916 - val_loss: 2.2824e-04 - val_acc: 0.9962\n",
      "Epoch 21/65\n",
      "200/200 [==============================] - 42s 212ms/step - loss: 0.0247 - acc: 0.9918 - val_loss: 0.7667 - val_acc: 0.8550\n",
      "Epoch 22/65\n",
      "200/200 [==============================] - 42s 209ms/step - loss: 0.0242 - acc: 0.9924 - val_loss: 1.9289e-04 - val_acc: 0.9956\n",
      "Epoch 23/65\n",
      "200/200 [==============================] - 42s 211ms/step - loss: 0.0240 - acc: 0.9924 - val_loss: 3.2187e-04 - val_acc: 0.9949\n",
      "Epoch 24/65\n",
      "200/200 [==============================] - 41s 206ms/step - loss: 0.0233 - acc: 0.9924 - val_loss: 0.0048 - val_acc: 0.9962\n",
      "Epoch 25/65\n",
      "200/200 [==============================] - 41s 206ms/step - loss: 0.0229 - acc: 0.9926 - val_loss: 1.6003e-04 - val_acc: 0.9962\n",
      "Epoch 26/65\n",
      "200/200 [==============================] - 42s 208ms/step - loss: 0.0226 - acc: 0.9929 - val_loss: 0.0020 - val_acc: 0.9850\n",
      "Epoch 27/65\n",
      "200/200 [==============================] - 42s 208ms/step - loss: 0.0219 - acc: 0.9928 - val_loss: 0.0024 - val_acc: 0.9981\n",
      "Epoch 28/65\n",
      "200/200 [==============================] - 42s 210ms/step - loss: 0.0215 - acc: 0.9930 - val_loss: 0.0219 - val_acc: 0.9969\n",
      "Epoch 29/65\n",
      "200/200 [==============================] - 41s 207ms/step - loss: 0.0222 - acc: 0.9927 - val_loss: 1.7767e-04 - val_acc: 0.9987\n",
      "Epoch 30/65\n",
      "200/200 [==============================] - 41s 207ms/step - loss: 0.0203 - acc: 0.9935 - val_loss: 0.0224 - val_acc: 0.9769\n",
      "Epoch 31/65\n",
      "200/200 [==============================] - 42s 208ms/step - loss: 0.0206 - acc: 0.9937 - val_loss: 0.0068 - val_acc: 0.9975\n",
      "Epoch 32/65\n",
      "200/200 [==============================] - 42s 208ms/step - loss: 0.0208 - acc: 0.9934 - val_loss: 3.8209e-04 - val_acc: 0.9962\n",
      "Epoch 33/65\n",
      "200/200 [==============================] - 41s 207ms/step - loss: 0.0189 - acc: 0.9938 - val_loss: 8.2922e-04 - val_acc: 0.9962\n",
      "Epoch 34/65\n",
      "200/200 [==============================] - 42s 209ms/step - loss: 0.0195 - acc: 0.9939 - val_loss: 0.0024 - val_acc: 0.9962\n",
      "Epoch 35/65\n",
      "200/200 [==============================] - 42s 212ms/step - loss: 0.0191 - acc: 0.9938 - val_loss: 0.0032 - val_acc: 0.9944\n",
      "Epoch 36/65\n",
      "200/200 [==============================] - 41s 207ms/step - loss: 0.0196 - acc: 0.9937 - val_loss: 0.0112 - val_acc: 0.9694\n",
      "Epoch 37/65\n",
      "200/200 [==============================] - 42s 208ms/step - loss: 0.0195 - acc: 0.9935 - val_loss: 0.0015 - val_acc: 0.9962\n",
      "Epoch 38/65\n",
      "200/200 [==============================] - 42s 209ms/step - loss: 0.0191 - acc: 0.9936 - val_loss: 0.3441 - val_acc: 0.9538\n",
      "Epoch 39/65\n",
      "200/200 [==============================] - 41s 207ms/step - loss: 0.0179 - acc: 0.9941 - val_loss: 0.0020 - val_acc: 0.9975\n",
      "Epoch 40/65\n",
      "200/200 [==============================] - 42s 208ms/step - loss: 0.0185 - acc: 0.9942 - val_loss: 1.7056e-04 - val_acc: 0.9987\n",
      "Epoch 41/65\n",
      "200/200 [==============================] - 42s 209ms/step - loss: 0.0184 - acc: 0.9939 - val_loss: 0.0185 - val_acc: 0.9956\n",
      "Epoch 42/65\n",
      "200/200 [==============================] - 42s 208ms/step - loss: 0.0182 - acc: 0.9942 - val_loss: 0.1429 - val_acc: 0.9887\n",
      "Epoch 43/65\n",
      "200/200 [==============================] - 42s 211ms/step - loss: 0.0173 - acc: 0.9945 - val_loss: 0.0625 - val_acc: 0.9937\n",
      "Epoch 44/65\n",
      "200/200 [==============================] - 42s 209ms/step - loss: 0.0175 - acc: 0.9942 - val_loss: 4.3944e-04 - val_acc: 0.9944\n",
      "Epoch 45/65\n",
      "200/200 [==============================] - 42s 209ms/step - loss: 0.0178 - acc: 0.9942 - val_loss: 5.2104e-04 - val_acc: 0.9975\n",
      "Epoch 46/65\n",
      "200/200 [==============================] - 42s 209ms/step - loss: 0.0178 - acc: 0.9940 - val_loss: 7.1596e-05 - val_acc: 0.9956\n",
      "Epoch 47/65\n",
      "200/200 [==============================] - 41s 207ms/step - loss: 0.0173 - acc: 0.9944 - val_loss: 3.0791e-04 - val_acc: 1.0000\n",
      "Epoch 48/65\n",
      "200/200 [==============================] - 43s 215ms/step - loss: 0.0175 - acc: 0.9945 - val_loss: 0.0080 - val_acc: 0.9506\n",
      "Epoch 49/65\n",
      "200/200 [==============================] - 41s 207ms/step - loss: 0.0152 - acc: 0.9951 - val_loss: 0.0109 - val_acc: 0.9887\n",
      "Epoch 50/65\n",
      "200/200 [==============================] - 42s 211ms/step - loss: 0.0167 - acc: 0.9945 - val_loss: 1.0291e-04 - val_acc: 0.9975\n",
      "Epoch 51/65\n",
      "200/200 [==============================] - 42s 208ms/step - loss: 0.0167 - acc: 0.9946 - val_loss: 1.9992e-05 - val_acc: 0.9721\n",
      "Epoch 52/65\n",
      "200/200 [==============================] - 41s 207ms/step - loss: 0.0162 - acc: 0.9947 - val_loss: 0.0086 - val_acc: 0.9969\n",
      "Epoch 53/65\n",
      "200/200 [==============================] - 42s 208ms/step - loss: 0.0152 - acc: 0.9950 - val_loss: 3.5972e-05 - val_acc: 0.9969\n",
      "Epoch 54/65\n",
      "200/200 [==============================] - 41s 207ms/step - loss: 0.0156 - acc: 0.9949 - val_loss: 8.4790e-05 - val_acc: 0.9962\n",
      "Epoch 55/65\n",
      "200/200 [==============================] - 41s 206ms/step - loss: 0.0161 - acc: 0.9949 - val_loss: 4.2145e-04 - val_acc: 0.9975\n",
      "Epoch 56/65\n",
      "200/200 [==============================] - 41s 207ms/step - loss: 0.0159 - acc: 0.9947 - val_loss: 9.3663e-05 - val_acc: 0.9962\n",
      "Epoch 57/65\n",
      "200/200 [==============================] - 42s 209ms/step - loss: 0.0159 - acc: 0.9950 - val_loss: 2.6664e-05 - val_acc: 0.9949\n",
      "Epoch 58/65\n",
      "200/200 [==============================] - 42s 208ms/step - loss: 0.0149 - acc: 0.9951 - val_loss: 0.7759 - val_acc: 0.9594\n",
      "Epoch 59/65\n",
      "200/200 [==============================] - 41s 207ms/step - loss: 0.0146 - acc: 0.9952 - val_loss: 5.1027e-04 - val_acc: 0.9969\n",
      "Epoch 60/65\n",
      "200/200 [==============================] - 41s 207ms/step - loss: 0.0146 - acc: 0.9953 - val_loss: 0.3970 - val_acc: 0.9675\n",
      "Epoch 61/65\n",
      "200/200 [==============================] - 41s 207ms/step - loss: 0.0162 - acc: 0.9948 - val_loss: 3.1054e-05 - val_acc: 0.9987\n",
      "Epoch 62/65\n",
      "200/200 [==============================] - 42s 208ms/step - loss: 0.0156 - acc: 0.9949 - val_loss: 5.5674e-04 - val_acc: 0.9994\n",
      "Epoch 63/65\n",
      "200/200 [==============================] - 42s 209ms/step - loss: 0.0143 - acc: 0.9955 - val_loss: 0.0199 - val_acc: 0.9981\n",
      "Epoch 64/65\n",
      "200/200 [==============================] - 42s 210ms/step - loss: 0.0152 - acc: 0.9950 - val_loss: 6.6194e-05 - val_acc: 0.9975\n",
      "Epoch 65/65\n",
      "200/200 [==============================] - 42s 212ms/step - loss: 0.0139 - acc: 0.9954 - val_loss: 0.0022 - val_acc: 0.9950\n"
     ]
    }
   ],
   "source": [
    "history = train_model(model, X_train, y_train, X_val, y_val, epochs, batch_size, 1)"
   ]
  },
  {
   "cell_type": "code",
   "execution_count": 11,
   "metadata": {},
   "outputs": [
    {
     "data": {
      "image/png": "[encoded data removed]",
      "text/plain": [
       "<Figure size 1152x648 with 2 Axes>"
      ]
     },
     "metadata": {
      "needs_background": "light"
     },
     "output_type": "display_data"
    }
   ],
   "source": [
    "# Display curves of accuracy and learning\n",
    "acc = history.history['acc']\n",
    "val_acc = history.history['val_acc']\n",
    "loss = history.history['loss']\n",
    "val_loss = history.history['val_loss']\n",
    "\n",
    "epochs = range(1, len(acc) + 1)\n",
    "\n",
    "fig, axs = plt.subplots(nrows=1, ncols=2, figsize=(16,9))\n",
    "axs[0].plot(epochs, acc, 'r', label='training acc')\n",
    "axs[0].plot(epochs, val_acc, 'g', label='validation acc')\n",
    "axs[0].set_title('training and validation accuracy')\n",
    "axs[0].set_xlabel('epochs')\n",
    "axs[0].legend()\n",
    "\n",
    "axs[1].plot(epochs, loss, 'r', label='training acc')\n",
    "axs[1].plot(epochs, val_loss, 'g', label='validation acc')\n",
    "axs[1].set_title('training and validation loss')\n",
    "axs[1].set_xlabel('epochs')\n",
    "axs[1].legend()\n",
    "\n",
    "plt.show()"
   ]
  },
  {
   "cell_type": "code",
   "execution_count": 12,
   "metadata": {},
   "outputs": [],
   "source": [
    "# Load and prepare the test data\n",
    "test = pd.read_csv(\"../input/Kannada-MNIST/test.csv\")\n",
    "x_test = test.drop('id', axis=1).iloc[:,:].values\n",
    "x_test = x_test.reshape(x_test.shape[0], 28, 28, 1)\n",
    "\n",
    "predictions = model.predict_classes(x_test/255.)\n",
    "submission = pd.read_csv('../input/Kannada-MNIST/sample_submission.csv')\n",
    "submission['label'] = predictions\n",
    "submission.to_csv(\"submission.csv\", index=False)"
   ]
  }
 ],
 "metadata": {
  "kernelspec": {
   "display_name": "Python 3",
   "language": "python",
   "name": "python3"
  },
  "language_info": {
   "codemirror_mode": {
    "name": "ipython",
    "version": 3
   },
   "file_extension": ".py",
   "mimetype": "text/x-python",
   "name": "python",
   "nbconvert_exporter": "python",
   "pygments_lexer": "ipython3",
   "version": "3.6.6"
  }
 },
 "nbformat": 4,
 "nbformat_minor": 1
}
